{
 "cells": [
  {
   "cell_type": "markdown",
   "metadata": {},
   "source": [
    "# Introduction to Agent-Based Modeling (Python-based)\n",
    "## Paul Macklin, Indiana University (macklinp@iu.edu) \n",
    "## Version 2: February 2, 2022\n",
    "\n",
    "This Jupyter notebook accompanies a two-lecture series that introduces agent-based modeling (in biology) by building a basic agent-based model in Python, and then explores more developed cloud-hosted agent-based models created with [PhysiCell](http://PhysiCell.org). \n",
    "\n",
    "This notebook and the accompanying lectures are available as open education resources under the [CC-BY 4.0 license](https://creativecommons.org/licenses/by/4.0/). Please visit the following GitHub repository for the latest version: \n",
    "\n",
    "https://github.com/physicell-training/Python_ABM_crashcourse\n",
    "\n",
    "### Version History\n",
    "#### Version 1. February 16, 2021\n",
    "Initial version. \n",
    "\n",
    "#### Version 2. February 2, 2022\n",
    "Fixed typographical errors, added improved plotting, and fixed nuisance np.int vs int warnings.  \n",
    "\n",
    "### Section 1. Declaring a class in Python \n",
    "Let's start by declaring a class. \n",
    "\n",
    "The name of this class is `Agent`. It is a template for a software object. Any specific software object created from this template is an *instance* of the class. \n",
    "\n",
    "Its default constructor is `__init__`. Its single input variable (argument) is **self**: the software object (instance) created by the class. Inside of `__init__`, we define the member data, which are attached to `self`. \n",
    "\n",
    "Every Python class must have a default constructor with syntax `__init__(self)`. \n",
    "\n",
    "This particular class has a member function (`move_me`), with arguments `self` (always required!), `dx`, and `dy`. It also has a method `display` to show its current state. "
   ]
  },
  {
   "cell_type": "code",
   "execution_count": 1,
   "metadata": {},
   "outputs": [],
   "source": [
    "class Agent:\n",
    "    def __init__( self ): # default constructor\n",
    "        self.hidden_variable = False; # no such thing as private in Python\n",
    "        self.position = [0,0]; \n",
    "        self.hunger = 0.0;\n",
    "        self.ID = 0; \n",
    "        return; \n",
    "\n",
    "    def move_me( self , dx, dy ): # member function \n",
    "        self.position[0] += dx ; \n",
    "        self.position[1] += dy; \n",
    "        return; \n",
    "        \n",
    "    def display( self ):\n",
    "        print( str(self.ID) + ' at ' + str(self.position) + ' has hunger level ' \n",
    "              + str(self.hunger) )"
   ]
  },
  {
   "cell_type": "markdown",
   "metadata": {},
   "source": [
    "Now, let's create an instance of this class named Bob."
   ]
  },
  {
   "cell_type": "code",
   "execution_count": 2,
   "metadata": {},
   "outputs": [
    {
     "name": "stdout",
     "output_type": "stream",
     "text": [
      "0 at [0, 0] has hunger level 0.0\n"
     ]
    }
   ],
   "source": [
    "Bob = Agent(); \n",
    "Bob.display() "
   ]
  },
  {
   "cell_type": "markdown",
   "metadata": {},
   "source": [
    "Now, let's set Bob's ID to 1. "
   ]
  },
  {
   "cell_type": "code",
   "execution_count": 3,
   "metadata": {},
   "outputs": [
    {
     "name": "stdout",
     "output_type": "stream",
     "text": [
      "1 at [0, 0] has hunger level 0.0\n"
     ]
    }
   ],
   "source": [
    "Bob.ID = 1 \n",
    "Bob.display()"
   ]
  },
  {
   "cell_type": "markdown",
   "metadata": {},
   "source": [
    "Now, let's use the member function to move Bob one right, one down: "
   ]
  },
  {
   "cell_type": "code",
   "execution_count": 5,
   "metadata": {},
   "outputs": [
    {
     "name": "stdout",
     "output_type": "stream",
     "text": [
      "1 at [2, -2] has hunger level 0.0\n",
      "1 at [2, -2] has hunger level 0.0\n",
      "2 at [0, 0] has hunger level 0.5\n"
     ]
    }
   ],
   "source": [
    "Bob.move_me( 1 , -1 )\n",
    "Bob.display()\n",
    "\n",
    "Alice = Agent()\n",
    "Alice.ID = 2\n",
    "Alice.hunger = 0.5 \n",
    "\n",
    "Bob.display()\n",
    "Alice.display()\n",
    "\n"
   ]
  },
  {
   "cell_type": "markdown",
   "metadata": {},
   "source": [
    "### Section 2. Loading key libraries. \n",
    "Let's load the \"standard\" Python libraries we'll need, and set matplotlib to plot inline (for now). "
   ]
  },
  {
   "cell_type": "code",
   "execution_count": 6,
   "metadata": {},
   "outputs": [],
   "source": [
    "import numpy as np\n",
    "import matplotlib.pyplot as plt \n",
    "\n",
    "%matplotlib inline"
   ]
  },
  {
   "cell_type": "markdown",
   "metadata": {},
   "source": [
    "### Section 3. Creating a basic microenvironment \n",
    "\n",
    "Let's now write a basic `Environment` class.\n",
    "\n",
    "We'll introduce a basic chemical factor (a growth substrate) $c$ that obeys diffusion and decay: \n",
    "\n",
    "$$ \\frac{ \\partial c}{\\partial t} = D \\nabla^2 c - \\lambda c $$ \n",
    "\n",
    "First, we're going to add a basic Cartesian mesh: $X$ will hold regularly-spaced x-coordinates $a \\le x \\le b$, and $Y$ will hold y-coordinates with $c \\le y \\le d$. We'll have $m \\times n$ lattice points, with \n",
    "\n",
    "$$ \\Delta x = \\frac{b-a}{m-1} , \\textrm{ and } \\Delta y = \\frac{d-c}{n-1}.$$\n",
    "\n",
    "And then $x_i = a + i\\Delta x$ and $y_j = c+j \\Delta y$. \n",
    "\n",
    "We'll use numpy linspaces for X and Y, and a numpy matrix (initially zeros) to store the substrates. \n",
    "\n",
    "To make this easy, we'll put most of the initial sizing into the default constructor (`__init__`), and we'll use the `setup` function to set the physical parameters and apply the initial condition. "
   ]
  },
  {
   "cell_type": "code",
   "execution_count": 7,
   "metadata": {},
   "outputs": [],
   "source": [
    "# Declare environment class\n",
    "class Environment:\n",
    "    def __init__( self , shape=[-100,-100,100,100],  m=2 , n=2 ):\n",
    "        self.a = shape[0]\n",
    "        self.b = shape[2]\n",
    "        self.c = shape[1]\n",
    "        self.d = shape[3]\n",
    "        self.m = m; \n",
    "        self.n = n; \n",
    "        self.dx = (self.b-self.a)/(m-1); \n",
    "        self.dy = (self.d-self.c)/(n-1);\n",
    "        self.X = np.linspace( self.a, self.b , m )\n",
    "        self.Y = np.linspace( self.c, self.d, n )\n",
    "        self.C = np.zeros((m,n)); \n",
    "        return; \n",
    "    def setup( self , D=1000, decay=0.1 , initial=1.0, boundary=1.0 ):\n",
    "        self.D = D; \n",
    "        self.decay = decay; # In Python you can evidently declare more class elements in methods\n",
    "        # set boundary values \n",
    "        self.C = boundary * np.ones((self.m,self.n))\n",
    "        # set interior values to initial value \n",
    "        for j in range(1,self.n-1):\n",
    "            for i in range(1,self.m-1):\n",
    "                self.C[i,j] = initial ; \n",
    "        print( 'Length scale: ' + str( np.sqrt(self.D/self.decay) ) )\n",
    "        return; "
   ]
  },
  {
   "cell_type": "markdown",
   "metadata": {},
   "source": [
    "Now, let's test it on a $[-100,200] \\times [0,400]$ domain with $31\\times 41$ lattice points. Diffusion coefficient 1000, decay rate 0.1, initial value of 0.5, and boundary value 1.     \n",
    "\n",
    "We'll do a contour plot to make sure it's good. "
   ]
  },
  {
   "cell_type": "code",
   "execution_count": 8,
   "metadata": {},
   "outputs": [
    {
     "name": "stdout",
     "output_type": "stream",
     "text": [
      "Length scale: 100.0\n"
     ]
    },
    {
     "data": {
      "text/plain": [
       "<matplotlib.colorbar.Colorbar at 0x241fe4838b0>"
      ]
     },
     "execution_count": 8,
     "metadata": {},
     "output_type": "execute_result"
    },
    {
     "data": {
      "image/png": "[encoded data removed]",
      "text/plain": [
       "<Figure size 432x288 with 2 Axes>"
      ]
     },
     "metadata": {
      "needs_background": "light"
     },
     "output_type": "display_data"
    }
   ],
   "source": [
    "E = Environment( [-100,0,200,400] , 31,41 ) \n",
    "\n",
    "E.setup( 1000, 0.1 , 0.5 , 1 )\n",
    "\n",
    "plt.contourf( E.X, E.Y, np.transpose( E.C ) )\n",
    "plt.axis('image')\n",
    "plt.colorbar()"
   ]
  },
  {
   "cell_type": "markdown",
   "metadata": {},
   "source": [
    "### Section 4. Adding diffusion and built-in plotting \n",
    "We'll solve the diffusion-decay PDE with an explicit finite difference method. If $(x_i,y_j)$ \n",
    "is some lattice site and $t_n = n \\Delta t$ is a time, then let's write: \n",
    "$$\n",
    "c^n_{i,j} = c( x_i, y_j , t_n )\n",
    "$$\n",
    "\n",
    "Using this notation and standard finite differenes, we have: \n",
    "$$\n",
    "\\frac{ c^{n+1}_{i,j} - c^{n}_{i,j} }{\\Delta t} = \n",
    "D \\left( \\frac{ c^n_{i+1,j}-2 c^n_{i,j} - c^n_{i-1,j}  }{\\Delta x^2 }   + \n",
    "\\frac{ c^n_{i,j+1}-2 c^n_{i,j} - c^n_{i,j-1}  }{\\Delta y^2 }     \n",
    "\\right) - \\lambda c^n_{i,j}\n",
    "$$\n",
    "\n",
    "Then, we can algebraically solve for $c^{n+1}_{i,j}$: \n",
    "$$\n",
    "c^{n+1}{i,j} = \n",
    "c^{n}{i,j} \n",
    "+ \n",
    "\\frac{D \\Delta t}{\\Delta x^2} \n",
    "\\left( c^n_{i+1,j}-2 c^n_{i,j} - c^n_{i-1,j} \\right)\n",
    "+ \n",
    "\\frac{D \\Delta t}{\\Delta y^2} \n",
    "\\left( c^n_{i,j+1}-2 c^n_{i,j} - c^n_{i,j-1}  \\right) \n",
    "- \\lambda \\Delta t c^{n}_{i,j}\n",
    "$$\n",
    "We can clean this up to: \n",
    "$$\n",
    "A = \\frac{D\\Delta t}{\\Delta x^2} , \\hspace{0.25in} \n",
    "B = \\frac{D \\Delta t}{\\Delta y^2} , \\hspace{0.25in}\n",
    "C = \\Delta t \\lambda \n",
    "$$\n",
    "and then \n",
    "$$\n",
    "c^{n+1}_{i,j} = \\left( 1 - (2A+2B) - C \\right)c^n_{i,j} \n",
    "+ A c^n_{i-1,j} + A c^n_{i+1,j} +  B c^n_{i,j-1} + B c^n_{i,j+1} \n",
    "$$\n",
    "We'll iterate through our interior (non-boundary) points using this computational stencil. \n",
    "\n",
    "One more thing: when you do `b = a` in Python, it doesn't actually copy `a` to create a new `b`. It instead makes a pointer to `a` and stores it at `b`. This makes it efficient to pass objects to functions, but it has a serious downside: operating on your \"copy\" `b` changes the original `a`. You have to use `copy` (or sometimes `deepcopy`) to get around this Python design choice. \n",
    "\n",
    "Let's re-define the `Environment` class with this algorithm. "
   ]
  },
  {
   "cell_type": "code",
   "execution_count": 9,
   "metadata": {},
   "outputs": [],
   "source": [
    "import copy \n",
    "\n",
    "# Declare environment class\n",
    "class Environment:\n",
    "    def __init__( self , shape=[-100,-100,100,100],  m=3 , n=3 ):\n",
    "        self.a = shape[0]\n",
    "        self.b = shape[2]\n",
    "        self.c = shape[1]\n",
    "        self.d = shape[3]\n",
    "        self.m = m; \n",
    "        self.n = n; \n",
    "        self.dx = (self.b-self.a)/(m-1); \n",
    "        self.dy = (self.d-self.c)/(n-1);\n",
    "        self.X = np.linspace( self.a, self.b , m )\n",
    "        self.Y = np.linspace( self.c, self.d, n )\n",
    "        self.C = np.zeros((m,n)); \n",
    "        return; \n",
    "    def setup( self , D=1000, decay=0.1 , initial=1.0, boundary=1.0 ):\n",
    "        self.D = D; \n",
    "        self.decay = decay;  \n",
    "        # set all to the boundary values\n",
    "        self.C = boundary*np.ones((self.m,self.n))\n",
    "        # now set interior values to the initial value \n",
    "        for j in range(1,self.n-1):\n",
    "            for i in range(1,self.m-1):\n",
    "                self.C[i,j] = initial ; \n",
    "        print( 'Length scale: ' + str( np.sqrt(self.D/self.decay) ) )\n",
    "        return; \n",
    "    def update( self , dt=0.001 ):\n",
    "        # define constants for simplicity \n",
    "        A = self.D * dt / ( self.dx**2 )\n",
    "        B = self.D * dt / ( self.dy**2 )\n",
    "        C = self.decay * dt \n",
    "        # copy the prior solution. \n",
    "        old = self.C.copy(); # make sure this is a real copy and not a reference.         \n",
    "        # finite differences for decay-diffusion \n",
    "        for i in range(1,self.m-1):\n",
    "            for j in range(1,self.n-1):\n",
    "                self.C[i,j] = (1-2*A-2*B-C)*old[i,j] + A*(old[i-1,j]+old[i+1,j]) + B*( old[i,j-1]+old[i,j+1] );     \n",
    "        return; \n",
    "    def plot( self ):\n",
    "        plt.clf()\n",
    "        plt.contourf( self.X, self.Y, np.transpose( self.C ) )\n",
    "        plt.axis('image')\n",
    "        plt.colorbar()\n",
    "        plt.xlabel('x')\n",
    "        plt.ylabel('y')\n",
    "        plt.show()\n",
    "        plt.pause(0.0001) # helps with animation\n",
    "        \n",
    "# a startup function for full-screen plots \n",
    "def fullscreen_setup( fignum=1 , pause_time=2):\n",
    "    %matplotlib qt \n",
    "    plt.figure(fignum)\n",
    "    plt.clf()\n",
    "    figManager = plt.get_current_fig_manager()\n",
    "    figManager.full_screen_toggle() \n",
    "    plt.pause(pause_time); # some time to switch windows if needed "
   ]
  },
  {
   "cell_type": "markdown",
   "metadata": {},
   "source": [
    "Now, let's try it out. We'll define a domain, with initial condition 0.5 and boundary value 1. \n",
    "\n",
    "Let's use a mesh size of $\\Delta x = \\Delta y = 20.$ For a finite difference scheme like this, there are restrictions on how big of a time step size we can use without losing accuracy and numerical stability: \n",
    "\n",
    "$$\\Delta t \\le \\frac{ \\Delta x^2}{2n D},$$\n",
    "\n",
    "where $n$ is the number of spatial dimensions (here, $n = 2$). \n",
    "\n",
    "If $\\Delta x = 20$ and $D = 10000$, then we need: \n",
    "$$\\Delta t \\le \\frac{400}{4\\cdot 10000} = 0.01$$\n",
    "\n",
    "Let's run update every 0.01 minutes and plot every 200 time steps. "
   ]
  },
  {
   "cell_type": "code",
   "execution_count": 15,
   "metadata": {},
   "outputs": [
    {
     "name": "stdout",
     "output_type": "stream",
     "text": [
      "Length scale: 1000.0\n",
      "0.01\n"
     ]
    }
   ],
   "source": [
    "# declare an environment \n",
    "E = Environment( [-250,-250,250,250] , 26,26 ) \n",
    "# set up\n",
    "E.setup( 10000, 1 , 0.5 , 1 )\n",
    "\n",
    "dt = E.dx**2 / (2 * 2 * E.D )\n",
    "\n",
    "print(dt)\n",
    "\n",
    "# prepare for full-screen plots\n",
    "fullscreen_setup()\n",
    "\n",
    "# main test loop\n",
    "for n in range(100):\n",
    "    if( n % 10  == 0 ):\n",
    "        E.plot()\n",
    "        # plt.show() \n",
    "        # plt.pause(0.001)\n",
    "    E.update( dt )\n",
    "    \n",
    "E.plot() "
   ]
  },
  {
   "cell_type": "markdown",
   "metadata": {},
   "source": [
    "### Section 5. A cell class (version 1)\n",
    "Let's write a cell class that does the following: \n",
    "* updates cell velocity by exchanging spring-like forces with other cells. \n",
    "* there is a random component to velocity (due to random actin dynamics etc)\n",
    "* updates cell position based on the velocity. \n",
    "We'll also make a list of cells to keep track of them all. "
   ]
  },
  {
   "cell_type": "code",
   "execution_count": 16,
   "metadata": {},
   "outputs": [],
   "source": [
    "all_cells = list(); \n",
    "\n",
    "class Cell:\n",
    "    def __init__( self ):\n",
    "        self.position = np.array( [0.0,0.0] ); \n",
    "        self.velocity = np.array( [0.0,0.0] );\n",
    "        self.mechanics_distance = 30.0; \n",
    "        self.equilibrium_spacing = 20.0;\n",
    "        self.mechanics_contant = 1.0; \n",
    "    def update_velocity( self, dt , env , all_cells ):\n",
    "        self.velocity = np.array([0.0,0.0])\n",
    "        # spring-like interactions with cells \n",
    "        for c in all_cells: \n",
    "            displacement = c.position - self.position \n",
    "            dist = np.linalg.norm( displacement )\n",
    "            if( dist < self.mechanics_distance and dist > 1e-16 ):\n",
    "                dv = dist - self.equilibrium_spacing \n",
    "                displacement = displacement / dist; \n",
    "                displacement = displacement * dv; \n",
    "                displacement = displacement * self.mechanics_contant; \n",
    "                self.velocity = self.velocity + displacement \n",
    "        angle = 6.28318530718 * np.random.uniform(); \n",
    "        perturbation_size = 0.1 * self.mechanics_contant; \n",
    "        self.velocity[0] += perturbation_size * np.cos(angle)\n",
    "        self.velocity[1] += perturbation_size * np.sin(angle)\n",
    "        return\n",
    "    def update_position( self, dt , env, all_cells ):\n",
    "        self.position = self.position + dt*self.velocity; \n",
    "        return; "
   ]
  },
  {
   "cell_type": "markdown",
   "metadata": {},
   "source": [
    "Now, let's make a few cells with random positions contained in the environment and plot. "
   ]
  },
  {
   "cell_type": "code",
   "execution_count": 19,
   "metadata": {},
   "outputs": [],
   "source": [
    "all_cells = list()\n",
    "\n",
    "# make a plotting function \n",
    "def plot_cells( env, all_cells ):\n",
    "    env.plot()\n",
    "    num_cells = len( all_cells )\n",
    "    positions = np.zeros( (num_cells,2) ); \n",
    "    for n in range(num_cells):\n",
    "        positions[n,:] = all_cells[n].position \n",
    "    plt.plot( positions[:,0] , positions[:,1] , 'wo' )\n",
    "    plt.axis('image')\n",
    "    plt.show();\n",
    "    plt.pause(0.0001)\n",
    "    return; \n",
    "\n",
    "fullscreen_setup(1,0.01)\n",
    "\n",
    "# now make 10 cells with random positions \n",
    "number_of_cells = 10;\n",
    "center = [ 0.5*(E.a+E.b) , 0.5*(E.c+E.d)]\n",
    "for n in range(number_of_cells):\n",
    "    c = Cell(); # create cell. \n",
    "    r = 5 * np.random.normal();\n",
    "    angle = 6.28318530718 * np.random.uniform(); \n",
    "    c.position[0] = center[0] + r * np.cos(angle)\n",
    "    c.position[1] = center[1] + r * np.sin(angle)\n",
    "    \n",
    "    c.equilibrium_spacing = 15 + 10*np.random.uniform(); \n",
    "    all_cells.append(c)\n",
    "  \n",
    "plot_cells( E, all_cells )"
   ]
  },
  {
   "cell_type": "markdown",
   "metadata": {},
   "source": [
    "Now, let's run the mechanics steps a few times and plot."
   ]
  },
  {
   "cell_type": "code",
   "execution_count": 20,
   "metadata": {},
   "outputs": [],
   "source": [
    "dt = 0.1 \n",
    "\n",
    "fullscreen_setup(1,0.001)\n",
    "\n",
    "for n in range( 250 ):\n",
    "    for c in all_cells:\n",
    "        c.update_velocity( dt , E, all_cells )\n",
    "    for c in all_cells:\n",
    "        c.update_position( dt , E, all_cells )\n",
    "    if( n % 25 == 0 ):\n",
    "        plot_cells( E, all_cells ) "
   ]
  },
  {
   "cell_type": "markdown",
   "metadata": {},
   "source": [
    "### Section 6. Adding cell division and death. (Cell v2) \n",
    "Let's add division and death to the `Cell` class. \n",
    "\n",
    "When a cell `c` divides, we want to make a fully copy of it and place it at the end of the `all_cells` data structure. \n",
    "\n",
    "Recall that in Python, the operation `b = a` doesn't actually make a new object `b` that is a copy of `a`. Instead, it makes a pointer, and changing `b` turns out to change `a`. This is stupid and deeply frustrating, but Python had good reasons to do it. We can solve it by using the `deepcopy` function in the `copy` package. \n",
    "\n",
    "When a cell `c` dies, we want to remove it from the `all_cells` data structure. \n",
    "\n",
    "Let's build these basic methods into the an upgraded `Cell` class. "
   ]
  },
  {
   "cell_type": "code",
   "execution_count": 21,
   "metadata": {},
   "outputs": [],
   "source": [
    "import copy\n",
    "\n",
    "all_cells = list(); \n",
    "\n",
    "class Cell:\n",
    "    def __init__( self ):\n",
    "        self.position = np.array( [0.0,0.0] ); \n",
    "        self.velocity = np.array( [0.0,0.0] );\n",
    "        self.mechanics_distance = 30.0; \n",
    "        self.equilibrium_spacing = 20.0;\n",
    "        self.mechanics_contant = 1.0;  \n",
    "    def update_velocity( self, dt , env , all_cells ):\n",
    "        self.velocity = np.array([0.0,0.0])\n",
    "        # spring-like interactions with cells \n",
    "        for c in all_cells: \n",
    "            displacement = c.position - self.position \n",
    "            dist = np.linalg.norm( displacement )\n",
    "            if( dist < self.mechanics_distance and dist > 1e-16 ):\n",
    "                dv = dist - self.equilibrium_spacing \n",
    "                displacement = displacement / dist; \n",
    "                displacement = displacement * dv; \n",
    "                displacement = displacement * self.mechanics_contant; \n",
    "                self.velocity = self.velocity + displacement \n",
    "        angle = 6.28318530718 * np.random.uniform(); \n",
    "        perturbation_size = 0.1 * self.mechanics_contant; \n",
    "        self.velocity[0] += perturbation_size * np.cos(angle)\n",
    "        self.velocity[1] += perturbation_size * np.sin(angle)\n",
    "        return\n",
    "    def division( self, all_cells ):\n",
    "        # make a brand new cell\n",
    "        c = copy.deepcopy( self ); \n",
    "        # append it to the data structure \n",
    "        all_cells.append( c ); \n",
    "        # set its position to be near its parent cell\n",
    "        r = self.equilibrium_spacing; \n",
    "        angle = np.random.uniform()\n",
    "        c.position[0] = r*np.cos(angle)\n",
    "        c.position[1] = r*np.sin(angle)\n",
    "        return; \n",
    "    def death( self, all_cells ):\n",
    "        all_cells.remove( self )\n",
    "        del self; \n",
    "    def update_position( self, dt , env, all_cells ):\n",
    "        self.position = self.position + dt*self.velocity; \n",
    "        return; "
   ]
  },
  {
   "cell_type": "markdown",
   "metadata": {},
   "source": [
    "Now, let's test it! \n",
    "\n",
    "we'll create 10 cells. Every 50 time steps, we'll divide a random cell. Every 200 steps, we'll kill a random cell "
   ]
  },
  {
   "cell_type": "code",
   "execution_count": 22,
   "metadata": {},
   "outputs": [],
   "source": [
    "all_cells.clear() \n",
    "\n",
    "# now make 10 cells with random positions \n",
    "number_of_cells = 10;\n",
    "center = [ 0.5*(E.a+E.b) , 0.5*(E.c+E.d)]\n",
    "for n in range(number_of_cells):\n",
    "    c = Cell(); # create cell. \n",
    "    r = 5 * np.random.normal();\n",
    "    angle = 6.28318530718 * np.random.uniform(); \n",
    "    c.position[0] = center[0] + r * np.cos(angle)\n",
    "    c.position[1] = center[1] + r * np.sin(angle)\n",
    "    all_cells.append(c)\n",
    "\n",
    "fullscreen_setup(1,0.01) \n",
    "dt = 0.1; \n",
    "\n",
    "for n in range( 1000 ):\n",
    "    for c in all_cells:\n",
    "        c.update_velocity( dt , E, all_cells )\n",
    "    for c in all_cells:\n",
    "        c.update_position( dt , E, all_cells )\n",
    "    if( n % 50 == 0 ):\n",
    "        n_cells = len( all_cells )\n",
    "        n_divide = np.random.randint( n_cells ); \n",
    "        all_cells[n_divide].division( all_cells )\n",
    "    if( n % 200 == 0 ):\n",
    "        n_cells = len( all_cells )\n",
    "        n_die = np.random.randint( n_cells ); \n",
    "        all_cells[n_die].death( all_cells )\n",
    "    if( n % 100 == 0 ):\n",
    "        plot_cells( E, all_cells ) \n",
    "        \n",
    "        "
   ]
  },
  {
   "cell_type": "code",
   "execution_count": 23,
   "metadata": {},
   "outputs": [],
   "source": [
    "for n in range( 1000 ):\n",
    "    for c in all_cells:\n",
    "        c.update_velocity( dt , E, all_cells )\n",
    "    for c in all_cells:\n",
    "        c.update_position( dt , E, all_cells )\n",
    "    if( n % 100 == 0 ):\n",
    "        plot_cells( E, all_cells ) \n",
    "        \n",
    "        "
   ]
  },
  {
   "cell_type": "markdown",
   "metadata": {},
   "source": [
    "### Section 7. Update cells to probabilistically do division and death. (Cell v3) \n",
    "\n",
    "If the cell's birth rate is $b$, then the probability of the cell dividing in $[t,t+\\Delta t]$ is: \n",
    "\n",
    "$$\\textrm{Prob}_\\textrm{birth} = b \\Delta t.$$\n",
    "\n",
    "Similarly, if the death rate is $d$, then \n",
    "\n",
    "$$\\textrm{Prob}_\\textrm{death} = d \\Delta t.$$\n",
    "\n",
    "Suppose event $X$ has probability $p$. Then in numerics if you want to evaluate whether event $X$ happens, you use a uniform random number.\n",
    "\n",
    "Let $0 \\le u \\le 1$ be a uniformly distributed random number. If $u \\le p$, then $X$ happens. If $u > p$, then $X$ does not happen. \n",
    "\n",
    "Let's use this to automate birth and death in a revised `Cell` class. "
   ]
  },
  {
   "cell_type": "code",
   "execution_count": 26,
   "metadata": {},
   "outputs": [],
   "source": [
    "import copy\n",
    "\n",
    "all_cells = list(); \n",
    "\n",
    "class Cell:\n",
    "    def __init__( self ):\n",
    "        self.position = np.array( [0.0,0.0] ); \n",
    "        self.velocity = np.array( [0.0,0.0] );\n",
    "        self.mechanics_distance = 30.0\n",
    "        self.equilibrium_spacing = 20.0;\n",
    "        self.mechanics_contant = 1.0;\n",
    "        self.birth_rate = 0.01; \n",
    "        self.death_rate = 0.005; \n",
    "    def update_velocity( self, dt , env , all_cells ):\n",
    "        self.velocity = np.array([0.0,0.0])\n",
    "        # spring-like interactions with cells \n",
    "        for c in all_cells: \n",
    "            displacement = c.position - self.position \n",
    "            dist = np.linalg.norm( displacement )\n",
    "            if( dist < self.mechanics_distance and dist > 1e-16 ):\n",
    "                dv = dist - self.equilibrium_spacing \n",
    "                displacement = displacement / dist; \n",
    "                displacement = displacement * dv; \n",
    "                displacement = displacement * self.mechanics_contant; \n",
    "                self.velocity = self.velocity + displacement \n",
    "        angle = 6.28318530718 * np.random.uniform(); \n",
    "        perturbation_size = 0.1 * self.mechanics_contant; \n",
    "        self.velocity[0] += perturbation_size * np.cos(angle)\n",
    "        self.velocity[1] += perturbation_size * np.sin(angle)\n",
    "        return\n",
    "    def division( self, all_cells ):\n",
    "        # make a brand new cell\n",
    "        c = copy.deepcopy( self ); \n",
    "        # append it to the data structure \n",
    "        all_cells.append( c ); \n",
    "        # set its position to be near its parent cell\n",
    "        r = self.equilibrium_spacing; \n",
    "        angle = np.random.uniform()\n",
    "        c.position[0] = r*np.cos(angle)\n",
    "        c.position[1] = r*np.sin(angle)\n",
    "        return; \n",
    "    def death( self, all_cells ):\n",
    "        all_cells.remove( self )\n",
    "        del self\n",
    "    def update( self, dt, env, all_cells ):\n",
    "        prob_birth = self.birth_rate * dt; \n",
    "        prob_death = self.death_rate * dt; \n",
    "        if( np.random.uniform() <= prob_birth ):\n",
    "            self.division( all_cells );\n",
    "            return; \n",
    "        if( np.random.uniform() <= prob_death ):\n",
    "            self.death( all_cells );\n",
    "            return; \n",
    "        return;         \n",
    "    def update_position( self, dt , env, all_cells ):\n",
    "        self.position = self.position + dt*self.velocity; \n",
    "        return; \n"
   ]
  },
  {
   "cell_type": "markdown",
   "metadata": {},
   "source": [
    "Now, let's test it! "
   ]
  },
  {
   "cell_type": "code",
   "execution_count": 27,
   "metadata": {},
   "outputs": [],
   "source": [
    "all_cells.clear() \n",
    "\n",
    "# now make 10 cells with random positions \n",
    "number_of_cells = 10;\n",
    "center = [ 0.5*(E.a+E.b) , 0.5*(E.c+E.d)]\n",
    "for n in range(number_of_cells):\n",
    "    c = Cell(); # create cell. \n",
    "    r = 5 * np.random.normal();\n",
    "    angle = 6.28318530718 * np.random.uniform(); \n",
    "    c.position[0] = center[0] + r * np.cos(angle)\n",
    "    c.position[1] = center[1] + r * np.sin(angle)\n",
    "    all_cells.append(c)\n",
    "  \n",
    "fullscreen_setup(1,0.01) \n",
    "dt = 0.1; \n",
    "\n",
    "for n in range( 1000 ):\n",
    "    for c in all_cells:\n",
    "        c.update( dt , E, all_cells ); \n",
    "    for c in all_cells:\n",
    "        c.update_velocity( dt , E, all_cells )\n",
    "    for c in all_cells:\n",
    "        c.update_position( dt , E, all_cells )\n",
    "    if( n % 50 == 0 ):\n",
    "        plot_cells( E, all_cells ) "
   ]
  },
  {
   "cell_type": "markdown",
   "metadata": {},
   "source": [
    "### Section 8. Coupling cells to the environment (Cells v4) \n",
    "Now, we want cells to absorb substrate from the environment, and increase their birth rate when they have more substrate, and die if substrate is too low. \n",
    "\n",
    "We'll need to be able to figure out where the cell is in the environment to sample it. Here's a way to get the $(i,j)$ index of the cell\n",
    "\n",
    "$$i = \\textrm{round}\\left( \\frac{ x-a}{\\Delta x} \\right).$$\n",
    "$$j = \\textrm{round}\\left( \\frac{ y-c}{\\Delta y} \\right).$$\n",
    "\n",
    "Let's extend the `Cell` class to sample the substrate $c$, consume substrate from the environemnt, and change birth and death rates based on the substrates. \n",
    "\n",
    "For the birth rate, let's set $b = b_0 \\frac{c-c_\\textrm{death}}{1-c_\\textrm{death}}$ where $b_0$ is the base birth rate. \n",
    "\n",
    "And for the death rate, we'll set $d = 9e99$ if $c \\le c_\\mathrm{death}.$ \n",
    "\n",
    "For substrate consumption, let's use the (unconditionally stable) backwards Euler method: \n",
    "\n",
    "$$\\frac{ C^{n+1}_{i,j} - C^n_{i,j}}{\\Delta t} = -r_c C^{n+1}_{i,j},$$\n",
    " \n",
    "or \n",
    "\n",
    "$$C^{n+1}_{i,j} = \\frac{1}{1+r_c \\Delta t} C^n_{i,j}.$$\n",
    "\n",
    "Let's update our `Cell` class!"
   ]
  },
  {
   "cell_type": "code",
   "execution_count": 28,
   "metadata": {},
   "outputs": [],
   "source": [
    "import copy\n",
    "\n",
    "all_cells = list(); \n",
    "\n",
    "class Cell:\n",
    "    def __init__( self ):\n",
    "        self.position = np.array( [0.0,0.0] ); \n",
    "        self.velocity = np.array( [0.0,0.0] );\n",
    "        self.mechanics_distance = 20.0; \n",
    "        self.equilibrium_spacing = 15.0;\n",
    "        self.mechanics_contant = 10.0;\n",
    "        self.birth_rate = 0.01; \n",
    "        self.death_rate = 0.001; \n",
    "        self.death_threshold = 0.3; \n",
    "        self.consumption_rate = 1.0;  \n",
    "    def update_velocity( self, dt , env , all_cells ):\n",
    "        self.velocity = np.array([0.0,0.0])\n",
    "        # spring-like interactions with cells \n",
    "        for c in all_cells: \n",
    "            displacement = c.position - self.position \n",
    "            dist = np.linalg.norm( displacement )\n",
    "            if( dist < self.mechanics_distance and dist > 1e-16 ):\n",
    "                dv = dist - self.equilibrium_spacing \n",
    "                displacement = displacement / dist; \n",
    "                displacement = displacement * dv; \n",
    "                displacement = displacement * self.mechanics_contant; \n",
    "                self.velocity = self.velocity + displacement \n",
    "        angle = 6.28318530718 * np.random.uniform(); \n",
    "        perturbation_size = 0.1 * self.mechanics_contant; \n",
    "        self.velocity[0] += perturbation_size * np.cos(angle)\n",
    "        self.velocity[1] += perturbation_size * np.sin(angle)\n",
    "        return\n",
    "    def division( self, all_cells ):\n",
    "        # make a brand new cell\n",
    "        c = copy.deepcopy( self ); \n",
    "        # append it to the data structure \n",
    "        all_cells.append( c ); \n",
    "        # set its position to be near its parent cell\n",
    "        r = self.equilibrium_spacing; \n",
    "        angle = np.random.uniform()\n",
    "        c.position[0] = r*np.cos(angle)\n",
    "        c.position[1] = r*np.sin(angle)\n",
    "        return; \n",
    "    def death( self, all_cells ):\n",
    "        all_cells.remove( self )\n",
    "        del self\n",
    "    def update( self, dt, env, all_cells ):\n",
    "        # find my coordinates in the environment\n",
    "        i = int( np.round( (self.position[0]-env.a)/env.dx ) );  \n",
    "        j = int( np.round( (self.position[1]-env.c)/env.dy ) );  \n",
    "        # consume substrate (backwards Euler)\n",
    "        constant = 1.0 + dt*self.consumption_rate; \n",
    "        env.C[i,j] /= constant; \n",
    "        # update birth and death rates based on C \n",
    "        substrate = env.C[i,j]\n",
    "        birth_rate = self.birth_rate * (substrate - self.death_threshold)/(1-self.death_threshold); \n",
    "        death_rate = self.death_rate; \n",
    "        if( birth_rate < 0 ):\n",
    "            birth_rate = 0.0; \n",
    "        if( env.C[i,j] < self.death_threshold ):\n",
    "            self.death(all_cells)\n",
    "            return; \n",
    "        prob_birth = birth_rate * dt; \n",
    "        prob_death = death_rate * dt; \n",
    "        if( np.random.uniform() <= prob_birth ):\n",
    "            self.division( all_cells );\n",
    "            return; \n",
    "        if( np.random.uniform() <= prob_death ):\n",
    "            self.death( all_cells );\n",
    "            return; \n",
    "        return;         \n",
    "    def update_position( self, dt , env, all_cells ):\n",
    "        self.position = self.position + dt*self.velocity; \n",
    "        return; \n"
   ]
  },
  {
   "cell_type": "markdown",
   "metadata": {},
   "source": [
    "Now, let's make a combined plotting function. "
   ]
  },
  {
   "cell_type": "code",
   "execution_count": 32,
   "metadata": {},
   "outputs": [],
   "source": [
    "# make a plotting function \n",
    "def plot( env, all_cells , t ):\n",
    "    # plt.figure(1 , figsize=(10,10) )\n",
    "    env.plot()    \n",
    "    num_cells = len( all_cells )\n",
    "    positions = np.zeros( (num_cells,2) ); \n",
    "    for n in range(num_cells):\n",
    "        positions[n,:] = all_cells[n].position \n",
    "    plt.plot( positions[:,0],positions[:,1],'wo', markersize=15, \n",
    "             markeredgecolor='k', alpha=0.5 )\n",
    "    plt.axis('image')\n",
    "    plt.title('number of cells: ' + str(num_cells) + ' time: ' + str(t) )\n",
    "    plt.show();\n",
    "    plt.pause(0.01)\n",
    "    return; \n"
   ]
  },
  {
   "cell_type": "markdown",
   "metadata": {},
   "source": [
    "And let's put everything together into one loop! "
   ]
  },
  {
   "cell_type": "code",
   "execution_count": 33,
   "metadata": {},
   "outputs": [
    {
     "name": "stdout",
     "output_type": "stream",
     "text": [
      "Length scale: 3162.2776601683795\n"
     ]
    }
   ],
   "source": [
    "all_cells.clear() \n",
    "E.setup( 10000, 0.001 , 1 , 1 )\n",
    "\n",
    "# now make 25 cells with random positions \n",
    "number_of_cells = 25;\n",
    "center = [ 0.5*(E.a+E.b) , 0.5*(E.c+E.d)]\n",
    "for n in range(number_of_cells):\n",
    "    c = Cell(); # create cell. \n",
    "    r = 50 * np.random.normal();\n",
    "    angle = 6.28318530718 * np.random.uniform(); \n",
    "    c.position[0] = center[0] + r * np.cos(angle)\n",
    "    c.position[1] = center[1] + r * np.sin(angle)\n",
    "    c.consumption_rate = 2.0 + 0.25*np.random.normal() \n",
    "    all_cells.append(c)\n",
    "  \n",
    "dt = 0.1; \n",
    "fullscreen_setup()\n",
    "\n",
    "for n in range( 2000+1 ):\n",
    "    for nn in range(10):\n",
    "        E.update( 0.1*dt )\n",
    "    for c in all_cells:\n",
    "        c.update( dt , E, all_cells ); \n",
    "    for c in all_cells:\n",
    "        c.update_velocity( dt , E, all_cells )\n",
    "    for c in all_cells:\n",
    "        c.update_position( dt , E, all_cells )\n",
    "    if( n % 200 == 0 ):\n",
    "        plot( E, all_cells , n ) \n",
    "\n"
   ]
  },
  {
   "cell_type": "code",
   "execution_count": null,
   "metadata": {},
   "outputs": [],
   "source": []
  }
 ],
 "metadata": {
  "kernelspec": {
   "display_name": "Python 3 (ipykernel)",
   "language": "python",
   "name": "python3"
  },
  "language_info": {
   "codemirror_mode": {
    "name": "ipython",
    "version": 3
   },
   "file_extension": ".py",
   "mimetype": "text/x-python",
   "name": "python",
   "nbconvert_exporter": "python",
   "pygments_lexer": "ipython3",
   "version": "3.9.7"
  }
 },
 "nbformat": 4,
 "nbformat_minor": 4
}
